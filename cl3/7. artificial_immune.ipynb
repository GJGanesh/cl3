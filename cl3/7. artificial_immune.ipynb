{
  "cells": [
    {
      "cell_type": "code",
      "source": [
        "import numpy as np"
      ],
      "metadata": {
        "id": "RJVLbOr3JnAt"
      },
      "id": "RJVLbOr3JnAt",
      "execution_count": 52,
      "outputs": []
    },
    {
      "cell_type": "code",
      "source": [
        "# Generate dummy data for demonstration purposes (replace this with your actual data)\n",
        "def generate_dummy_data(samples=100, features=10):\n",
        "    data = np.random.rand(samples, features)\n",
        "    labels = np.random.randint(0, 2, size=samples)\n",
        "    return data, labels"
      ],
      "metadata": {
        "id": "yy45--fYUZZ9"
      },
      "id": "yy45--fYUZZ9",
      "execution_count": 57,
      "outputs": []
    },
    {
      "cell_type": "code",
      "source": [
        "class AIRS:\n",
        "    def __init__(self, num_detectors=10, hypermutation_rate=0.1):\n",
        "        self.num_detectors = num_detectors\n",
        "        self.hypermutation_rate = hypermutation_rate\n",
        "\n",
        "    def train(self, X, y):\n",
        "        indices = np.random.choice(len(X), self.num_detectors, replace=False)\n",
        "        self.detectors = X[indices]\n",
        "        self.detector_labels = y[indices]  # Save their labels\n",
        "\n",
        "    def predict(self, X):\n",
        "        predictions = []\n",
        "        for sample in X:\n",
        "            distances = np.linalg.norm(self.detectors - sample, axis=1)\n",
        "            closest_idx = np.argmin(distances)\n",
        "            prediction = self.detector_labels[closest_idx]  # Return label\n",
        "            predictions.append(prediction)\n",
        "        return np.array(predictions)\n"
      ],
      "metadata": {
        "id": "Hw9cyMIIZC4b"
      },
      "id": "Hw9cyMIIZC4b",
      "execution_count": 70,
      "outputs": []
    },
    {
      "cell_type": "code",
      "source": [
        "# Generate dummy data\n",
        "data, labels = generate_dummy_data()"
      ],
      "metadata": {
        "id": "utRbUD4CZs_q"
      },
      "id": "utRbUD4CZs_q",
      "execution_count": 71,
      "outputs": []
    },
    {
      "cell_type": "code",
      "source": [
        "# Split data into training and testing sets\n",
        "split_ratio = 0.8\n",
        "split_index = int(split_ratio * len(data))\n",
        "train_data, test_data = data[:split_index], data[split_index:]\n",
        "train_labels, test_labels = labels[:split_index], labels[split_index:]"
      ],
      "metadata": {
        "id": "i8DRjnPHZzOi"
      },
      "id": "i8DRjnPHZzOi",
      "execution_count": 72,
      "outputs": []
    },
    {
      "cell_type": "code",
      "source": [
        "# Initialize and train AIRS\n",
        "airs = AIRS(num_detectors=10, hypermutation_rate=0.1)\n",
        "airs.train(train_data, train_labels)\n",
        "\n",
        "# Test AIRS on the test set\n",
        "predictions = airs.predict(test_data)\n",
        "\n",
        "# Evaluate accuracy\n",
        "accuracy = np.mean(predictions == test_labels)\n",
        "print(f\"Accuracy: {accuracy}\")\n"
      ],
      "metadata": {
        "id": "jo2urPtbZ1sm",
        "outputId": "b7777035-23ce-421e-dd17-5ade8120c072",
        "colab": {
          "base_uri": "https://localhost:8080/"
        }
      },
      "id": "jo2urPtbZ1sm",
      "execution_count": 73,
      "outputs": [
        {
          "output_type": "stream",
          "name": "stdout",
          "text": [
            "Accuracy: 0.55\n"
          ]
        }
      ]
    },
    {
      "cell_type": "code",
      "source": [],
      "metadata": {
        "id": "Pxg9b0xrZ5Gw"
      },
      "id": "Pxg9b0xrZ5Gw",
      "execution_count": null,
      "outputs": []
    }
  ],
  "metadata": {
    "colab": {
      "provenance": []
    },
    "language_info": {
      "name": "python"
    },
    "kernelspec": {
      "name": "python3",
      "display_name": "Python 3"
    }
  },
  "nbformat": 4,
  "nbformat_minor": 5
}