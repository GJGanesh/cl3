{
  "cells": [
    {
      "cell_type": "code",
      "source": [
        "#  Create 2 dictionaries representing 2 sets a & b and there elements\n",
        "a = {'x1':0.2,'x2':0.6,'x3':0.3,'x4':0.5,'x5':0.9}\n",
        "b = {'x1':0.4,'x2':0.7,'x3':0.5,'x4':0.1,'x5':0.2}"
      ],
      "metadata": {
        "id": "nYdj5pqJqgE_"
      },
      "id": "nYdj5pqJqgE_",
      "execution_count": 2,
      "outputs": []
    },
    {
      "cell_type": "code",
      "source": [
        "# Union operation -> Return max value by comapring corresponding elements from 2 sets\n",
        "def fuzzy_union(a,b):\n",
        "    union ={}\n",
        "    for key in a.keys():\n",
        "        union[key] = max(a[key],b[key])\n",
        "    return union\n",
        "print(\"Union :\\n\",fuzzy_union(a,b))"
      ],
      "metadata": {
        "colab": {
          "base_uri": "https://localhost:8080/"
        },
        "id": "PgXWVgQnrVdl",
        "outputId": "6590a760-e046-47be-c978-ddfec0eecfca"
      },
      "id": "PgXWVgQnrVdl",
      "execution_count": 3,
      "outputs": [
        {
          "output_type": "stream",
          "name": "stdout",
          "text": [
            "Union :\n",
            " {'x1': 0.4, 'x2': 0.7, 'x3': 0.5, 'x4': 0.5, 'x5': 0.9}\n"
          ]
        }
      ]
    },
    {
      "cell_type": "code",
      "source": [
        "# Intersection Operation -> return min value by comparing .....\n",
        "def fuzzy_intersection(a,b):\n",
        "    intersection = {}\n",
        "    for key in a.keys():\n",
        "        intersection[key] = min(a[key],b[key])\n",
        "    return intersection\n",
        "print(\"\\nIntersection:\\n\",fuzzy_intersection(a,b))"
      ],
      "metadata": {
        "colab": {
          "base_uri": "https://localhost:8080/"
        },
        "id": "6OAOy1zoCGqW",
        "outputId": "fba49148-ac14-4b97-c02e-0153c937ecb3"
      },
      "id": "6OAOy1zoCGqW",
      "execution_count": 4,
      "outputs": [
        {
          "output_type": "stream",
          "name": "stdout",
          "text": [
            "\n",
            "Intersection:\n",
            " {'x1': 0.2, 'x2': 0.6, 'x3': 0.3, 'x4': 0.1, 'x5': 0.2}\n"
          ]
        }
      ]
    },
    {
      "cell_type": "code",
      "source": [
        "# Complement Operation\n",
        "def complement(a):\n",
        "    comp_a ={}\n",
        "    for key in a.keys():\n",
        "        comp_a[key] = 1- a[key]\n",
        "    return comp_a\n",
        "print(\"\\nComplement :\\n\",complement(a))"
      ],
      "metadata": {
        "colab": {
          "base_uri": "https://localhost:8080/"
        },
        "id": "BYq4IB5bC8kc",
        "outputId": "5ea9d1de-a769-4fcb-e464-3bda58947423"
      },
      "id": "BYq4IB5bC8kc",
      "execution_count": 5,
      "outputs": [
        {
          "output_type": "stream",
          "name": "stdout",
          "text": [
            "\n",
            "Complement :\n",
            " {'x1': 0.8, 'x2': 0.4, 'x3': 0.7, 'x4': 0.5, 'x5': 0.09999999999999998}\n"
          ]
        }
      ]
    },
    {
      "cell_type": "code",
      "source": [
        "\n",
        "# Difference operation for Fuzzy set -> min(a[key],1-b[key])\n",
        "def diff(a,b):\n",
        "    diff ={}\n",
        "    for key in a.keys():\n",
        "        diff[key] = min(a[key],1-b[key])\n",
        "    return diff\n",
        "print(\"\\nDifference : \\n\",diff(a,b))"
      ],
      "metadata": {
        "colab": {
          "base_uri": "https://localhost:8080/"
        },
        "id": "5mkG5JwUC_jd",
        "outputId": "6fb1ba83-2a8a-4fcf-e39e-e5d63d928de2"
      },
      "id": "5mkG5JwUC_jd",
      "execution_count": 6,
      "outputs": [
        {
          "output_type": "stream",
          "name": "stdout",
          "text": [
            "\n",
            "Difference : \n",
            " {'x1': 0.2, 'x2': 0.30000000000000004, 'x3': 0.3, 'x4': 0.5, 'x5': 0.8}\n"
          ]
        }
      ]
    },
    {
      "cell_type": "code",
      "source": [
        "a = {'x1': 0.2, 'x2': 0.6}\n",
        "b = {'y1': 0.5, 'y2': 0.8}\n",
        "# Catersian Product -> same as intersection but here are 2 variables -> x,y (x and y variables have different values )instead of only x in above case of intersection\n",
        "def cart_product(a,b):\n",
        "    prod = {}\n",
        "    for a_key in a.keys():\n",
        "        for b_key in b.keys():\n",
        "            prod[(a_key,b_key)] = min(a[a_key],b[b_key])\n",
        "    return prod\n",
        "print(\"\\nProduct : \\n\",cart_product(a,b))"
      ],
      "metadata": {
        "colab": {
          "base_uri": "https://localhost:8080/"
        },
        "id": "6EPDLOq6DHqI",
        "outputId": "b7c7f066-2e3f-4a31-caf9-6ccfb8df1a62"
      },
      "id": "6EPDLOq6DHqI",
      "execution_count": 7,
      "outputs": [
        {
          "output_type": "stream",
          "name": "stdout",
          "text": [
            "\n",
            "Product : \n",
            " {('x1', 'y1'): 0.2, ('x1', 'y2'): 0.2, ('x2', 'y1'): 0.5, ('x2', 'y2'): 0.6}\n"
          ]
        }
      ]
    },
    {
      "cell_type": "code",
      "source": [
        "# Create 2 fuzzy relations\n",
        "# R: from X → Y\n",
        "R = {('x1', 'y1'): 0.2,('x1', 'y2'): 0.4,('x2', 'y1'): 0.6,('x2', 'y2'): 0.8}\n",
        "\n",
        "# S: from Y → Z\n",
        "S = {('y1', 'z1'): 0.3,('y1', 'z2'): 0.5,('y2', 'z1'): 0.7,('y2', 'z2'): 0.9}"
      ],
      "metadata": {
        "id": "Y5nPZ0K0DOtb"
      },
      "id": "Y5nPZ0K0DOtb",
      "execution_count": 8,
      "outputs": []
    },
    {
      "cell_type": "code",
      "source": [
        "# min-max composition\n",
        "def max_min_composition(R, S):\n",
        "    result = {}\n",
        "    for x, y1 in R:\n",
        "        for y2, z in S:\n",
        "            if y1 == y2:\n",
        "                pair = (x, z)\n",
        "                value = min(R[(x, y1)], S[(y2, z)])\n",
        "                result[pair] = max(result.get(pair, 0), value)\n",
        "    return result\n",
        "print(\"\\nMin Max Composition : \\n\",max_min_composition(R,S))"
      ],
      "metadata": {
        "colab": {
          "base_uri": "https://localhost:8080/"
        },
        "id": "x3oZyR0RDS4O",
        "outputId": "15b274fc-eaa1-48cc-8ee6-1d11420188a5"
      },
      "id": "x3oZyR0RDS4O",
      "execution_count": 9,
      "outputs": [
        {
          "output_type": "stream",
          "name": "stdout",
          "text": [
            "\n",
            "Min Max Composition : \n",
            " {('x1', 'z1'): 0.4, ('x1', 'z2'): 0.4, ('x2', 'z1'): 0.7, ('x2', 'z2'): 0.8}\n"
          ]
        }
      ]
    },
    {
      "cell_type": "code",
      "source": [],
      "metadata": {
        "id": "kGYEuObHDWlX"
      },
      "id": "kGYEuObHDWlX",
      "execution_count": null,
      "outputs": []
    }
  ],
  "metadata": {
    "colab": {
      "provenance": []
    },
    "language_info": {
      "name": "python"
    },
    "kernelspec": {
      "name": "python3",
      "display_name": "Python 3"
    }
  },
  "nbformat": 4,
  "nbformat_minor": 5
}