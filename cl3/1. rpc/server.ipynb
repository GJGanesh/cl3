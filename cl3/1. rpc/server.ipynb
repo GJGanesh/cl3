{
 "cells": [
  {
   "cell_type": "code",
   "execution_count": 1,
   "id": "Y-9GpFuKO-30",
   "metadata": {
    "id": "Y-9GpFuKO-30"
   },
   "outputs": [],
   "source": [
    "import Pyro4"
   ]
  },
  {
   "cell_type": "code",
   "execution_count": 2,
   "id": "iR71-Qn2PH9e",
   "metadata": {
    "colab": {
     "base_uri": "https://localhost:8080/"
    },
    "id": "iR71-Qn2PH9e",
    "outputId": "a028cdbc-6f9c-4eac-d0fd-11cd633677e3"
   },
   "outputs": [],
   "source": [
    "# Define the factorial function that will be remotely accessed\n",
    "@Pyro4.expose\n",
    "class FactorialServer:\n",
    "    def factorial(self, n):\n",
    "        if n == 0 or n == 1:\n",
    "            return 1\n",
    "        else:\n",
    "            return n * self.factorial(n - 1)"
   ]
  },
  {
   "cell_type": "code",
   "execution_count": 3,
   "id": "VUPQuJHYPQ8B",
   "metadata": {
    "id": "VUPQuJHYPQ8B"
   },
   "outputs": [],
   "source": [
    "# Factorial function\n",
    "def factorial(n):\n",
    "    if n == 0 or n == 1:\n",
    "        return 1\n",
    "    else:\n",
    "        return n * factorial(n - 1)\n"
   ]
  },
  {
   "cell_type": "code",
   "execution_count": 4,
   "id": "qSshIxL1PT8J",
   "metadata": {
    "colab": {
     "base_uri": "https://localhost:8080/",
     "height": 103
    },
    "id": "qSshIxL1PT8J",
    "outputId": "3c582db7-11f5-45c1-ff90-4b0bb5d67111"
   },
   "outputs": [],
   "source": [
    "# Set up the Pyro4 daemon and register the object\n",
    "def main():\n",
    "    daemon = Pyro4.Daemon()  # Create a Pyro daemon\n",
    "    uri = daemon.register(FactorialServer())  # Register the server object\n",
    "    print(\"Server is running. URI:\", uri)  # Print the URI for client to connect to\n",
    "    daemon.requestLoop()  # Start the Pyro4 event loop\n"
   ]
  },
  {
   "cell_type": "code",
   "execution_count": null,
   "id": "a1KDJIzxPXPA",
   "metadata": {
    "id": "a1KDJIzxPXPA"
   },
   "outputs": [
    {
     "name": "stdout",
     "output_type": "stream",
     "text": [
      "Server is running. URI: PYRO:obj_2789582bba1b403e888a6fe557517145@localhost:62821\n"
     ]
    }
   ],
   "source": [
    "if __name__ == \"__main__\":\n",
    "    main()"
   ]
  },
  {
   "cell_type": "code",
   "execution_count": null,
   "id": "r5w5k9tfQZ-z",
   "metadata": {
    "id": "r5w5k9tfQZ-z"
   },
   "outputs": [],
   "source": []
  },
  {
   "cell_type": "code",
   "execution_count": null,
   "id": "U93htCTfPakh",
   "metadata": {
    "id": "U93htCTfPakh"
   },
   "outputs": [],
   "source": []
  }
 ],
 "metadata": {
  "colab": {
   "provenance": []
  },
  "kernelspec": {
   "display_name": "Python 3 (ipykernel)",
   "language": "python",
   "name": "python3"
  },
  "language_info": {
   "codemirror_mode": {
    "name": "ipython",
    "version": 3
   },
   "file_extension": ".py",
   "mimetype": "text/x-python",
   "name": "python",
   "nbconvert_exporter": "python",
   "pygments_lexer": "ipython3",
   "version": "3.9.7"
  }
 },
 "nbformat": 4,
 "nbformat_minor": 5
}
