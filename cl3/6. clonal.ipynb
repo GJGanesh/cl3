{
  "cells": [
    {
      "cell_type": "code",
      "source": [
        "import numpy as np"
      ],
      "metadata": {
        "id": "RJVLbOr3JnAt"
      },
      "id": "RJVLbOr3JnAt",
      "execution_count": 52,
      "outputs": []
    },
    {
      "cell_type": "code",
      "source": [
        "# Define the Sphere function to be optimized\n",
        "def sphere_function(x):\n",
        "    return np.sum(x**3)"
      ],
      "metadata": {
        "id": "yy45--fYUZZ9"
      },
      "id": "yy45--fYUZZ9",
      "execution_count": 53,
      "outputs": []
    },
    {
      "cell_type": "code",
      "source": [
        "# Define the Clonal Selection Algorithm\n",
        "def clonal_selection_algorithm(objective_function, dim, pop_size, max_iter, mutation_rate):\n",
        "    # Initialize population randomly\n",
        "    population = np.random.uniform(-5, 5, size=(pop_size, dim))\n",
        "\n",
        "    for iter in range(max_iter):\n",
        "        # Evaluate fitness for each individual\n",
        "        fitness = np.array([objective_function(ind) for ind in population])\n",
        "\n",
        "        # Sort population based on fitness\n",
        "        sorted_indices = np.argsort(fitness)\n",
        "        population = population[sorted_indices]\n",
        "        fitness = fitness[sorted_indices]\n",
        "\n",
        "        # Clone individuals based on their fitness\n",
        "        num_clones = int(pop_size * 0.5)\n",
        "        clones = population[:num_clones]\n",
        "\n",
        "        # Mutate clones\n",
        "        mutated_clones = clones + np.random.normal(scale=mutation_rate, size=clones.shape)\n",
        "\n",
        "        # Select the best individuals from the original population and mutated clones\n",
        "        new_population = np.vstack((population[-num_clones:], mutated_clones))\n",
        "\n",
        "        population = new_population\n",
        "\n",
        "    # Return the best solution found\n",
        "    best_solution = population[np.argmin(fitness)]\n",
        "    best_fitness = fitness.min()\n",
        "\n",
        "    return best_solution, best_fitness"
      ],
      "metadata": {
        "id": "xZiRExQAUcgm"
      },
      "id": "xZiRExQAUcgm",
      "execution_count": 54,
      "outputs": []
    },
    {
      "cell_type": "code",
      "source": [
        "# Define parameters\n",
        "dim = 10           # Dimensionality of the problem\n",
        "pop_size = 100     # Population size\n",
        "max_iter = 100     # Maximum number of iterations\n",
        "mutation_rate = 0.1  # Mutation rate"
      ],
      "metadata": {
        "id": "HmmPpoNkUqcV"
      },
      "id": "HmmPpoNkUqcV",
      "execution_count": 55,
      "outputs": []
    },
    {
      "cell_type": "code",
      "source": [
        "# Run Clonal Selection Algorithm\n",
        "best_solution, best_fitness = clonal_selection_algorithm(sphere_function, dim, pop_size, max_iter, mutation_rate)\n",
        "\n",
        "print(\"Best solution:\", best_solution)\n",
        "print(\"Best fitness:\", best_fitness)"
      ],
      "metadata": {
        "id": "d2-HlPy_UtbW",
        "outputId": "9b8c5c47-44c8-4eb1-cb96-cf85273b3086",
        "colab": {
          "base_uri": "https://localhost:8080/"
        }
      },
      "id": "d2-HlPy_UtbW",
      "execution_count": 56,
      "outputs": [
        {
          "output_type": "stream",
          "name": "stdout",
          "text": [
            "Best solution: [ 3.21163151 -3.13775476 -3.20827503 -3.10487728  0.26157522  1.24737949\n",
            "  1.76340114  1.26744737  4.66326646 -1.71703989]\n",
            "Best fitness: -554.8751602490751\n"
          ]
        }
      ]
    },
    {
      "cell_type": "code",
      "source": [],
      "metadata": {
        "id": "Lo98Aq7EUwG4"
      },
      "id": "Lo98Aq7EUwG4",
      "execution_count": null,
      "outputs": []
    }
  ],
  "metadata": {
    "colab": {
      "provenance": []
    },
    "language_info": {
      "name": "python"
    },
    "kernelspec": {
      "name": "python3",
      "display_name": "Python 3"
    }
  },
  "nbformat": 4,
  "nbformat_minor": 5
}