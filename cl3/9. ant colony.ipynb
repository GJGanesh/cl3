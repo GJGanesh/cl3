{
  "cells": [
    {
      "cell_type": "code",
      "source": [
        "import numpy as np\n",
        "import random"
      ],
      "metadata": {
        "id": "DnWF2p8keIfN"
      },
      "id": "DnWF2p8keIfN",
      "execution_count": 82,
      "outputs": []
    },
    {
      "cell_type": "code",
      "source": [
        "# Define the distance matrix (distances between cities)\n",
        "distance_matrix = np.array([\n",
        "    [0, 10, 15, 20],\n",
        "    [10, 0, 35, 25],\n",
        "    [15, 35, 0, 30],\n",
        "    [20, 25, 30, 0]\n",
        "])"
      ],
      "metadata": {
        "id": "f1RvniyFfBfC"
      },
      "id": "f1RvniyFfBfC",
      "execution_count": 83,
      "outputs": []
    },
    {
      "cell_type": "code",
      "source": [
        " # Parameters for Ant Colony Optimization\n",
        "num_ants = 10\n",
        "num_iterations = 50\n",
        "evaporation_rate = 0.5\n",
        "pheromone_constant = 1.0\n",
        "heuristic_constant = 1.0"
      ],
      "metadata": {
        "id": "LRMMGg1WfI1d"
      },
      "id": "LRMMGg1WfI1d",
      "execution_count": 85,
      "outputs": []
    },
    {
      "cell_type": "code",
      "source": [
        " # Initialize pheromone matrix and visibility matrix\n",
        "num_cities = len(distance_matrix)\n",
        "pheromone = np.ones((num_cities, num_cities))  # Pheromone matrix\n",
        "visibility = 1 / distance_matrix  # Visibility matrix (inverse of distance)"
      ],
      "metadata": {
        "id": "WLh293lEfLBC",
        "outputId": "f92ae4b2-662e-4b32-f66d-a69b9f1a906c",
        "colab": {
          "base_uri": "https://localhost:8080/"
        }
      },
      "id": "WLh293lEfLBC",
      "execution_count": 86,
      "outputs": [
        {
          "output_type": "stream",
          "name": "stderr",
          "text": [
            "<ipython-input-86-c226b380e0f8>:4: RuntimeWarning: divide by zero encountered in divide\n",
            "  visibility = 1 / distance_matrix  # Visibility matrix (inverse of distance)\n"
          ]
        }
      ]
    },
    {
      "cell_type": "code",
      "source": [
        "# ACO algorithm\n",
        "for iteration in range(num_iterations):\n",
        "    ant_routes = []\n",
        "    for ant in range(num_ants):\n",
        "        current_city = random.randint(0, num_cities - 1)\n",
        "        visited_cities = [current_city]\n",
        "        route = [current_city]\n",
        "\n",
        "        while len(visited_cities) < num_cities:\n",
        "            probabilities = []\n",
        "            for city in range(num_cities):\n",
        "                if city not in visited_cities:\n",
        "                    pheromone_value = pheromone[current_city][city]\n",
        "                    visibility_value = visibility[current_city][city]\n",
        "                    probability = (pheromone_value ** pheromone_constant) * (visibility_value ** heuristic_constant)\n",
        "                    probabilities.append((city, probability))\n",
        "\n",
        "            probabilities = sorted(probabilities, key=lambda x: x[1], reverse=True)\n",
        "            selected_city = probabilities[0][0]\n",
        "            route.append(selected_city)\n",
        "            visited_cities.append(selected_city)\n",
        "            current_city = selected_city\n",
        "\n",
        "        ant_routes.append(route)"
      ],
      "metadata": {
        "id": "VwYI4LEZfQSC"
      },
      "id": "VwYI4LEZfQSC",
      "execution_count": 87,
      "outputs": []
    },
    {
      "cell_type": "code",
      "source": [
        " # Update pheromone levels\n",
        "delta_pheromone = np.zeros((num_cities, num_cities))\n",
        "for ant, route in enumerate(ant_routes):\n",
        "    for i in range(len(route) - 1):\n",
        "        city_a = route[i]\n",
        "        city_b = route[i + 1]\n",
        "        delta_pheromone[city_a][city_b] += 1 / distance_matrix[city_a][city_b]\n",
        "        delta_pheromone[city_b][city_a] += 1 / distance_matrix[city_a][city_b]\n",
        "\n",
        "pheromone = (1 - evaporation_rate) * pheromone + delta_pheromone\n"
      ],
      "metadata": {
        "id": "XiZeRVNxfbKT"
      },
      "id": "XiZeRVNxfbKT",
      "execution_count": 90,
      "outputs": []
    },
    {
      "cell_type": "code",
      "source": [
        "# Find the best route\n",
        "best_route_index = np.argmax([sum(distance_matrix[cities[i]][cities[(i + 1) % num_cities]] for i in range(num_cities)) for cities in ant_routes])\n",
        "best_route = ant_routes[best_route_index]\n",
        "shortest_distance = sum(distance_matrix[best_route[i]][best_route[(i + 1) % num_cities]] for i in range(num_cities))\n",
        "\n",
        "print(\"Best route:\", best_route)\n",
        "print(\"Shortest distance:\", shortest_distance)"
      ],
      "metadata": {
        "id": "N7OO40svfd76",
        "outputId": "8421d1fa-2e73-44ef-e60c-c3667254e32a",
        "colab": {
          "base_uri": "https://localhost:8080/"
        }
      },
      "id": "N7OO40svfd76",
      "execution_count": 91,
      "outputs": [
        {
          "output_type": "stream",
          "name": "stdout",
          "text": [
            "Best route: [3, 0, 1, 2]\n",
            "Shortest distance: 95\n"
          ]
        }
      ]
    },
    {
      "cell_type": "code",
      "source": [],
      "metadata": {
        "id": "7iX6qEQafxXh"
      },
      "id": "7iX6qEQafxXh",
      "execution_count": null,
      "outputs": []
    }
  ],
  "metadata": {
    "colab": {
      "provenance": []
    },
    "language_info": {
      "name": "python"
    },
    "kernelspec": {
      "name": "python3",
      "display_name": "Python 3"
    }
  },
  "nbformat": 4,
  "nbformat_minor": 5
}