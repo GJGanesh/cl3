{
 "cells": [
  {
   "cell_type": "code",
   "execution_count": null,
   "id": "jx4xBZcg4EKh",
   "metadata": {
    "id": "jx4xBZcg4EKh"
   },
   "outputs": [
    {
     "name": "stdout",
     "output_type": "stream",
     "text": [
      "Server URI: PYRO:obj_bd35ca861e26405e9bab289a22bce1b8@localhost:62698\n"
     ]
    }
   ],
   "source": [
    "import Pyro4 \n",
    "@Pyro4.expose \n",
    "class StringConcatenationServer: \n",
    "    def concatenate_strings(self, str1, str2): \n",
    "        result = str1 + str2 \n",
    "        return result \n",
    " \n",
    "def main(): \n",
    "    daemon = Pyro4.Daemon()  # Create a Pyro daemon \n",
    "    ns = Pyro4.locateNS()  # Locate the Pyro nameserver \n",
    " \n",
    "    # Create an instance of the server class \n",
    "    server = StringConcatenationServer() \n",
    " \n",
    "    # Register the server object with the Pyro nameserver \n",
    "    uri = daemon.register(server) \n",
    "    ns.register(\"string.concatenation\", uri) \n",
    " \n",
    "    print(\"Server URI:\", uri) \n",
    " \n",
    "    with open(\"server_uri.txt\", \"w\") as f: \n",
    "        f.write(str(uri)) \n",
    " \n",
    "    daemon.requestLoop() \n",
    " \n",
    "if __name__ == \"__main__\": \n",
    "    main()"
   ]
  },
  {
   "cell_type": "code",
   "execution_count": null,
   "id": "945b2a15-21f4-4cc3-8af4-0f73f270f413",
   "metadata": {},
   "outputs": [],
   "source": []
  }
 ],
 "metadata": {
  "colab": {
   "provenance": []
  },
  "kernelspec": {
   "display_name": ".venv",
   "language": "python",
   "name": "python3"
  },
  "language_info": {
   "codemirror_mode": {
    "name": "ipython",
    "version": 3
   },
   "file_extension": ".py",
   "mimetype": "text/x-python",
   "name": "python",
   "nbconvert_exporter": "python",
   "pygments_lexer": "ipython3",
   "version": "3.13.2"
  }
 },
 "nbformat": 4,
 "nbformat_minor": 5
}
