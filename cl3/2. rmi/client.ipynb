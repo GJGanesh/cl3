{
 "cells": [
  {
   "cell_type": "code",
   "execution_count": 1,
   "id": "DbiZe6KfD5q4",
   "metadata": {
    "id": "DbiZe6KfD5q4"
   },
   "outputs": [],
   "source": [
    "import Pyro4 \n",
    "\n",
    "def main(): \n",
    "    with open(\"server_uri.txt\", \"r\") as f: \n",
    "        uri = f.read() \n",
    "    \n",
    "    server = Pyro4.Proxy(uri)  # Connect to the remote server \n",
    "    \n",
    "    str1 = input(\"Enter the first string: \") \n",
    "    str2 = input(\"Enter the second string: \") \n",
    "    \n",
    "    result = server.concatenate_strings(str1, str2) \n",
    "    \n",
    "    print(\"Concatenated Result:\", result) "
   ]
  },
  {
   "cell_type": "code",
   "execution_count": null,
   "id": "4b2115d6",
   "metadata": {},
   "outputs": [],
   "source": [
    "if __name__ == \"__main__\":\n",
    "    main()"
   ]
  }
 ],
 "metadata": {
  "colab": {
   "provenance": []
  },
  "kernelspec": {
   "display_name": ".venv",
   "language": "python",
   "name": "python3"
  },
  "language_info": {
   "codemirror_mode": {
    "name": "ipython",
    "version": 3
   },
   "file_extension": ".py",
   "mimetype": "text/x-python",
   "name": "python",
   "nbconvert_exporter": "python",
   "pygments_lexer": "ipython3",
   "version": "3.13.2"
  }
 },
 "nbformat": 4,
 "nbformat_minor": 5
}
