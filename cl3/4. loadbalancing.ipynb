{
  "cells": [
    {
      "cell_type": "code",
      "source": [
        "def create_server(name):\n",
        "    return {\"name\": name}"
      ],
      "metadata": {
        "id": "nYdj5pqJqgE_"
      },
      "id": "nYdj5pqJqgE_",
      "execution_count": 10,
      "outputs": []
    },
    {
      "cell_type": "code",
      "source": [
        "def create_load_balancer(servers):\n",
        "    return {\"servers\": servers, \"current_index\": 0}"
      ],
      "metadata": {
        "id": "PgXWVgQnrVdl"
      },
      "id": "PgXWVgQnrVdl",
      "execution_count": 11,
      "outputs": []
    },
    {
      "cell_type": "code",
      "source": [
        "def add_server(load_balancer, server):\n",
        "    load_balancer[\"servers\"].append(server)"
      ],
      "metadata": {
        "id": "BYq4IB5bC8kc"
      },
      "id": "BYq4IB5bC8kc",
      "execution_count": 12,
      "outputs": []
    },
    {
      "cell_type": "code",
      "source": [
        "def get_next_server(load_balancer):\n",
        "    servers = load_balancer[\"servers\"]\n",
        "    index = load_balancer[\"current_index\"]\n",
        "    server = servers[index]\n",
        "    load_balancer[\"current_index\"] = (index + 1) % len(servers)\n",
        "    return server"
      ],
      "metadata": {
        "id": "5mkG5JwUC_jd"
      },
      "id": "5mkG5JwUC_jd",
      "execution_count": 14,
      "outputs": []
    },
    {
      "cell_type": "code",
      "source": [
        "def prompt_server_info(index):\n",
        "    name = input(f\"Enter the name of server {index}: \")\n",
        "    return create_server(name)"
      ],
      "metadata": {
        "id": "6EPDLOq6DHqI"
      },
      "id": "6EPDLOq6DHqI",
      "execution_count": 15,
      "outputs": []
    },
    {
      "cell_type": "code",
      "source": [
        "def assign_load(load_balancer, i):\n",
        "    server = get_next_server(load_balancer)\n",
        "    print(f\"Load {i} assigned to server: {server['name']}\")"
      ],
      "metadata": {
        "id": "Y5nPZ0K0DOtb"
      },
      "id": "Y5nPZ0K0DOtb",
      "execution_count": 16,
      "outputs": []
    },
    {
      "cell_type": "code",
      "source": [
        "if __name__ == \"__main__\":\n",
        "    servers = []\n",
        "    num_servers = int(input(\"Enter the number of servers: \"))\n",
        "    for i in range(1, num_servers + 1):\n",
        "        servers.append(prompt_server_info(i))\n",
        "\n",
        "    lb = create_load_balancer(servers)\n",
        "\n",
        "    num_loads = int(input(\"Enter the number of loads: \"))\n",
        "\n",
        "    print(\"\\nLoad balancing result:\")\n",
        "    for i in range(1, num_loads + 1):\n",
        "        assign_load(lb, i)"
      ],
      "metadata": {
        "colab": {
          "base_uri": "https://localhost:8080/"
        },
        "id": "x3oZyR0RDS4O",
        "outputId": "612d4f3e-ddad-4dbb-eabe-2fd2be89a41d"
      },
      "id": "x3oZyR0RDS4O",
      "execution_count": 17,
      "outputs": [
        {
          "output_type": "stream",
          "name": "stdout",
          "text": [
            "Enter the number of servers: 2\n",
            "Enter the name of server 1: GJ\n",
            "Enter the name of server 2: RJ\n",
            "Enter the number of loads: 7\n",
            "\n",
            "Load balancing result:\n",
            "Load 1 assigned to server: GJ\n",
            "Load 2 assigned to server: RJ\n",
            "Load 3 assigned to server: GJ\n",
            "Load 4 assigned to server: RJ\n",
            "Load 5 assigned to server: GJ\n",
            "Load 6 assigned to server: RJ\n",
            "Load 7 assigned to server: GJ\n"
          ]
        }
      ]
    },
    {
      "cell_type": "code",
      "source": [],
      "metadata": {
        "id": "kGYEuObHDWlX"
      },
      "id": "kGYEuObHDWlX",
      "execution_count": null,
      "outputs": []
    }
  ],
  "metadata": {
    "colab": {
      "provenance": []
    },
    "language_info": {
      "name": "python"
    },
    "kernelspec": {
      "name": "python3",
      "display_name": "Python 3"
    }
  },
  "nbformat": 4,
  "nbformat_minor": 5
}