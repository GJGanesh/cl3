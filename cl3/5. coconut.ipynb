{
  "cells": [
    {
      "cell_type": "code",
      "source": [
        "import random\n",
        "from deap import base, creator, tools, algorithms"
      ],
      "metadata": {
        "id": "yy-Un1PFF-Nh"
      },
      "id": "yy-Un1PFF-Nh",
      "execution_count": 36,
      "outputs": []
    },
    {
      "cell_type": "code",
      "source": [
        "def evaluate(individual):\n",
        "   return random.random()"
      ],
      "metadata": {
        "id": "0Cd47OQdHcJk"
      },
      "id": "0Cd47OQdHcJk",
      "execution_count": 37,
      "outputs": []
    },
    {
      "cell_type": "code",
      "source": [
        "# Define genetic algorithm parameters\n",
        "POPULATION_SIZE = 10\n",
        "GENERATIONS = 5"
      ],
      "metadata": {
        "id": "jQrXv41yHpgf"
      },
      "id": "jQrXv41yHpgf",
      "execution_count": 38,
      "outputs": []
    },
    {
      "cell_type": "code",
      "source": [
        "# Create types for fitness and individuals in the genetic algorithm\n",
        "creator.create(\"FitnessMin\", base.Fitness, weights=(-1.0,))\n",
        "creator.create(\"Individual\", list, fitness=creator.FitnessMin)"
      ],
      "metadata": {
        "id": "O9JDQIrHH9-G"
      },
      "id": "O9JDQIrHH9-G",
      "execution_count": 39,
      "outputs": []
    },
    {
      "cell_type": "code",
      "source": [
        "# Initialize toolbox\n",
        "toolbox = base.Toolbox()"
      ],
      "metadata": {
        "id": "j_b3HY7MIAUZ"
      },
      "id": "j_b3HY7MIAUZ",
      "execution_count": 40,
      "outputs": []
    },
    {
      "cell_type": "code",
      "source": [
        "# Define attributes and individuals\n",
        "toolbox.register(\"attr_neurons\", random.randint, 1, 100)  # Example: number of neurons\n",
        "toolbox.register(\"attr_layers\", random.randint, 1, 5)  # Example: number of layers\n",
        "toolbox.register(\"individual\", tools.initCycle, creator.Individual, (toolbox.attr_neurons, toolbox.attr_layers), n=1)\n",
        "toolbox.register(\"population\", tools.initRepeat, list, toolbox.individual)"
      ],
      "metadata": {
        "id": "zdOpfFyCIIX8"
      },
      "id": "zdOpfFyCIIX8",
      "execution_count": 43,
      "outputs": []
    },
    {
      "cell_type": "code",
      "source": [
        "# Genetic operators\n",
        "toolbox.register(\"evaluate\", evaluate)\n",
        "toolbox.register(\"mate\", tools.cxTwoPoint)\n",
        "toolbox.register(\"mutate\", tools.mutUniformInt, low=1, up=100, indpb=0.2)\n",
        "toolbox.register(\"select\", tools.selTournament, tournsize=3)"
      ],
      "metadata": {
        "id": "cHQNg0HIIKyp"
      },
      "id": "cHQNg0HIIKyp",
      "execution_count": 44,
      "outputs": []
    },
    {
      "cell_type": "code",
      "source": [
        "# Create initial population\n",
        "population = toolbox.population(n=POPULATION_SIZE)"
      ],
      "metadata": {
        "id": "KfFPsyE0INob"
      },
      "id": "KfFPsyE0INob",
      "execution_count": 45,
      "outputs": []
    },
    {
      "cell_type": "code",
      "source": [
        "# Run the genetic algorithm\n",
        "for gen in range(GENERATIONS):\n",
        "    offspring = algorithms.varAnd(population, toolbox, cxpb=0.5, mutpb=0.1)\n",
        "\n",
        "    fitnesses = toolbox.map(toolbox.evaluate, offspring)\n",
        "    for ind, fit in zip(offspring, fitnesses):\n",
        "        ind.fitness.values = (fit,)\n",
        "\n",
        "    population = toolbox.select(offspring, k=len(population))"
      ],
      "metadata": {
        "id": "Mk9E6e-zIXGL"
      },
      "id": "Mk9E6e-zIXGL",
      "execution_count": 49,
      "outputs": []
    },
    {
      "cell_type": "code",
      "source": [
        "# Get the best individual from the final population\n",
        "best_individual = tools.selBest(population, k=1)[0]\n",
        "best_params = best_individual"
      ],
      "metadata": {
        "id": "QAGeyFRIIyPI"
      },
      "id": "QAGeyFRIIyPI",
      "execution_count": 50,
      "outputs": []
    },
    {
      "cell_type": "code",
      "source": [
        "# Print the best parameters found\n",
        "print(\"Best Parameters:\", best_params)"
      ],
      "metadata": {
        "id": "cWH6rzn0Jk-V",
        "outputId": "73fcdc4f-2078-4a78-a6e1-fad40a2fa297",
        "colab": {
          "base_uri": "https://localhost:8080/"
        }
      },
      "id": "cWH6rzn0Jk-V",
      "execution_count": 51,
      "outputs": [
        {
          "output_type": "stream",
          "name": "stdout",
          "text": [
            "Best Parameters: [12, 5]\n"
          ]
        }
      ]
    },
    {
      "cell_type": "code",
      "source": [],
      "metadata": {
        "id": "RJVLbOr3JnAt"
      },
      "id": "RJVLbOr3JnAt",
      "execution_count": null,
      "outputs": []
    }
  ],
  "metadata": {
    "colab": {
      "provenance": []
    },
    "language_info": {
      "name": "python"
    },
    "kernelspec": {
      "name": "python3",
      "display_name": "Python 3"
    }
  },
  "nbformat": 4,
  "nbformat_minor": 5
}